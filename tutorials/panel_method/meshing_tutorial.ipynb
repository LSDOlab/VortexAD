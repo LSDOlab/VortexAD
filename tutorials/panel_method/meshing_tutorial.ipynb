{
 "cells": [
  {
   "cell_type": "markdown",
   "id": "079e9b18",
   "metadata": {},
   "source": [
    "# Meshing Tutorial\n",
    "\n",
    "This tutorial is a guide on how properly mesh geometries to generate good panel method results. The power behind panel methods is the ability to capture flow behavior over **arbitrary** geometries. As a result, it is imperative that mesh refinement is incorporated in areas of high curvature and sharp corners.\n",
    "\n",
    "```{note}\n",
    "This tutorial uses [OpenVSP](https://openvsp.org/) to generate both the aircraft geometry and mesh. Users can use and combine various software tools for generating geometries ([Engineering Sketch Pad](https://acdl.mit.edu/ESP/ESPreadme.txt)) and meshes ([GMSH](https://gmsh.info/), [NetGen](https://ngsolve.org/)) as long as the standard mesh metrics and the file format are maintained.\n",
    "```"
   ]
  },
  {
   "cell_type": "markdown",
   "id": "05422c20",
   "metadata": {},
   "source": [
    "This tutorial will focus on generating triangulated surface meshes, as the VortexAD panel method currently only supports this mesh type. We will illustrate this example on the ONERAM6 wing. Specs on this geometry can be found online (insert sources); we have included the OpenVSP file in the repository as well. We toggle the Hidden surface texture to look at the mesh tessellation. The geometry is shown below.\n",
    "\n",
    "![ONERAM6 Geometry](../../docs/src/images/ONERAM6_geom_grid.png \"ONERAM6 Geometry\")"
   ]
  },
  {
   "cell_type": "markdown",
   "id": "cdd5eed3",
   "metadata": {},
   "source": [
    "The current geometry has a certain tessellation in the \"U\" and \"W\" direction; these correspond to the grid spacing in the spanwise and airfoil cross-section, respectively. The spanwise tessellation is measured from the root to tip, and the airfoil tessellation represents the spacing from the trailing edge to the trailing edge, wrapping around the airfoil. In the OpenVSP `Geom Browser`, we can select our `WingGeom` to see the exact grid tessellation; in this instance, U is 16 and W is 45. "
   ]
  }
 ],
 "metadata": {
  "language_info": {
   "name": "python"
  }
 },
 "nbformat": 4,
 "nbformat_minor": 5
}
